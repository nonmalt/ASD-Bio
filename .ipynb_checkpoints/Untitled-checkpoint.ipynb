{
 "cells": [
  {
   "cell_type": "markdown",
   "metadata": {},
   "source": [
    "## ASD 生物标记物的特征选择及统计学验证"
   ]
  },
  {
   "cell_type": "code",
   "execution_count": 147,
   "metadata": {},
   "outputs": [],
   "source": [
    "import numpy as np\n",
    "import pandas as pd\n",
    "\n",
    "from sklearn.ensemble import RandomForestClassifier\n",
    "from sklearn.decomposition import PCA\n",
    "from scipy import stats\n",
    "\n",
    "from skbio.diversity import alpha_diversity, beta_diversity\n",
    "import matplotlib.pyplot as plt"
   ]
  },
  {
   "cell_type": "markdown",
   "metadata": {},
   "source": [
    "### 载入数据"
   ]
  },
  {
   "cell_type": "code",
   "execution_count": 101,
   "metadata": {},
   "outputs": [],
   "source": [
    "otu = pd.read_csv('ASD_OTU.csv', index_col=0)\n",
    "label = pd.read_csv('ASD_Label.csv', index_col=0)"
   ]
  },
  {
   "cell_type": "markdown",
   "metadata": {},
   "source": [
    "### 基于机器学习方法(Random Forest)的特征选择"
   ]
  },
  {
   "cell_type": "code",
   "execution_count": 106,
   "metadata": {},
   "outputs": [],
   "source": [
    "# 模型定义\n",
    "model = RandomForestClassifier()\n",
    "\n",
    "# 模型训练\n",
    "model.fit(otu.values, label.values.ravel())\n",
    "\n",
    "# 特征重要性得分并排序\n",
    "feature_importance_score = pd.DataFrame(model.feature_importances_,\n",
    "                                        index=xtrain.columns, columns=['score']).sort_values(by='score', ascending=False)\n",
    "\n",
    "# 特征重要性得分过滤\n",
    "feature_importance_score = feature_importance_score[feature_importance_score.score > 0]"
   ]
  },
  {
   "cell_type": "markdown",
   "metadata": {},
   "source": [
    "### 筛选特征的统计学检验\n",
    "请根据示例提供的方法，实现对于机器学习方法所获得的**全部**特征进行统计检验  \n",
    "使用包括**T-test, F-test, Mannwhitneyu, Chi2检验**来实现  \n",
    "  \n",
    "统计方法由 **scipy.stats** 提供  \n",
    "  \n",
    "tips: pandas dataframe的索引由 **df.index** 获取"
   ]
  },
  {
   "cell_type": "code",
   "execution_count": 108,
   "metadata": {},
   "outputs": [
    {
     "data": {
      "text/plain": [
       "0.011100945375706479"
      ]
     },
     "execution_count": 108,
     "metadata": {},
     "output_type": "execute_result"
    }
   ],
   "source": [
    "# Mannwhitneyu Demo\n",
    "x = otu[label.target == 0].loc[:, 'k__Bacteria;p__Bacteroidetes;c__Bacteroidia;o__Bacteroidales;f__Prevotellaceae;g__Prevotella']\n",
    "y = otu[label.target == 1].loc[:, 'k__Bacteria;p__Bacteroidetes;c__Bacteroidia;o__Bacteroidales;f__Prevotellaceae;g__Prevotella']\n",
    "\n",
    "stats.mannwhitneyu(x, y).pvalue"
   ]
  },
  {
   "cell_type": "code",
   "execution_count": 74,
   "metadata": {},
   "outputs": [],
   "source": [
    "# T-test"
   ]
  },
  {
   "cell_type": "code",
   "execution_count": 75,
   "metadata": {},
   "outputs": [],
   "source": [
    "# F-test"
   ]
  },
  {
   "cell_type": "code",
   "execution_count": 77,
   "metadata": {},
   "outputs": [],
   "source": [
    "# Mannwhitneyu"
   ]
  },
  {
   "cell_type": "code",
   "execution_count": 78,
   "metadata": {},
   "outputs": [],
   "source": [
    "# Chi2"
   ]
  },
  {
   "cell_type": "markdown",
   "metadata": {},
   "source": [
    "## ASD菌群分析"
   ]
  },
  {
   "cell_type": "markdown",
   "metadata": {},
   "source": [
    "### α-diversity\n",
    "请使用 scikit-bio 实现对于ASD数据集的 α-diversity 的计算  \n",
    "使用包括**Shannon, Simpson**计算  \n",
    "  \n",
    "并根据计算获得的α-diversity绘制 **boxplot** 并计算两组间的差异，计算方法任意  \n",
    "\n",
    "tips:   \n",
    "使用 **alpha_diversity** 进行计算  \n",
    "alpha_diversity(method, data_martix, data_ids)  \n",
    "使用 matplotlib pyplot boxplot 绘制箱线图"
   ]
  },
  {
   "cell_type": "code",
   "execution_count": 149,
   "metadata": {},
   "outputs": [],
   "source": [
    "# Shannon"
   ]
  },
  {
   "cell_type": "code",
   "execution_count": 150,
   "metadata": {},
   "outputs": [],
   "source": [
    "# Plot"
   ]
  },
  {
   "cell_type": "code",
   "execution_count": 114,
   "metadata": {},
   "outputs": [],
   "source": [
    "# Simpson"
   ]
  },
  {
   "cell_type": "code",
   "execution_count": 151,
   "metadata": {},
   "outputs": [],
   "source": [
    "# Plot"
   ]
  },
  {
   "cell_type": "markdown",
   "metadata": {},
   "source": [
    "### β-diversity\n",
    "请使用 scikit-bio 实现对于ASD数据集的 β-diversity 的计算  \n",
    "使用包括**jaccard, braycurtis**计算  \n",
    "  \n",
    "tips: 使用 **beta_diversity** 进行计算  \n",
    "beta_diversity(method, data_martix, data_ids)"
   ]
  },
  {
   "cell_type": "code",
   "execution_count": 148,
   "metadata": {},
   "outputs": [],
   "source": [
    "# Jaccard"
   ]
  },
  {
   "cell_type": "code",
   "execution_count": 116,
   "metadata": {},
   "outputs": [],
   "source": [
    "# Bray-Curits"
   ]
  },
  {
   "cell_type": "markdown",
   "metadata": {},
   "source": [
    "### PCA 可视化\n",
    "请对 β-diversity 距离矩阵使用PCA进行降维  \n",
    "并绘制散点图分类着色  \n",
    "  \n",
    "tips:  \n",
    "PCA使用 scikit-learn decomposition PCA  \n",
    "使用 Matplotlib pyplot scatter 进行绘图"
   ]
  },
  {
   "cell_type": "code",
   "execution_count": 145,
   "metadata": {},
   "outputs": [],
   "source": [
    "# PCA\n",
    "# PCA(data_martix, n_dim)"
   ]
  },
  {
   "cell_type": "code",
   "execution_count": 146,
   "metadata": {},
   "outputs": [],
   "source": [
    "# Plot\n",
    "# plt.scatter(x, y, c)\n",
    "# c为对应需要着色列表"
   ]
  }
 ],
 "metadata": {
  "kernelspec": {
   "display_name": "Torch",
   "language": "python",
   "name": "torch"
  },
  "language_info": {
   "codemirror_mode": {
    "name": "ipython",
    "version": 3
   },
   "file_extension": ".py",
   "mimetype": "text/x-python",
   "name": "python",
   "nbconvert_exporter": "python",
   "pygments_lexer": "ipython3",
   "version": "3.8.3"
  }
 },
 "nbformat": 4,
 "nbformat_minor": 4
}
